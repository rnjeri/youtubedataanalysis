{
 "cells": [
  {
   "cell_type": "markdown",
   "metadata": {},
   "source": [
    "### Youtube Data Engagement\n",
    "- How does engagement of live videos differ from non-live videos?\n",
    "- What is the completion rate of educational/series type playlists?\n",
    "- How does engagement rate of shorts differ from non-shorts?"
   ]
  },
  {
   "cell_type": "code",
   "execution_count": null,
   "metadata": {},
   "outputs": [],
   "source": [
    "# -*- coding: utf-8 -*-\n",
    "\n",
    "# Sample Python code for youtube.channels.list\n",
    "# See instructions for running these code samples locally:\n",
    "# https://developers.google.com/explorer-help/code-samples#python\n",
    "\n",
    "import os\n",
    "\n",
    "import google_auth_oauthlib.flow\n",
    "import googleapiclient.discovery\n",
    "import googleapiclient.errors\n",
    "import seaborn as sns\n",
    "\n",
    "import numpy as np\n",
    "import pandas as pd\n",
    "import isodate"
   ]
  },
  {
   "cell_type": "code",
   "execution_count": null,
   "metadata": {},
   "outputs": [],
   "source": [
    "#scopes = [\"https://www.googleapis.com/auth/youtube.readonly\"]"
   ]
  },
  {
   "cell_type": "code",
   "execution_count": null,
   "metadata": {},
   "outputs": [],
   "source": [
    "api_key = os.environ[\"youtube_API_KEY\"]\n",
    "#channel_user_name = 'AlexTheAnalyst'"
   ]
  },
  {
   "cell_type": "code",
   "execution_count": null,
   "metadata": {},
   "outputs": [],
   "source": [
    "api_service_name = \"youtube\"\n",
    "api_version = \"v3\"\n",
    "\n",
    "youtube = googleapiclient.discovery.build(\n",
    "        api_service_name, api_version, developerKey= api_key)"
   ]
  },
  {
   "cell_type": "code",
   "execution_count": null,
   "metadata": {},
   "outputs": [],
   "source": [
    "## function to get channel statistics \n",
    "\n",
    "def get_channel_stats (youtube, channel_user_name):\n",
    "    request = youtube.channels().list(\n",
    "        part=\"snippet,contentDetails,statistics\",\n",
    "        forUsername=channel_user_name\n",
    "    )\n",
    "    response = request.execute()\n",
    "    \n",
    "    data = dict( channel_name = response['items'][0]['snippet']['title'],\n",
    "                subscribers = response['items'][0]['statistics']['subscriberCount'],\n",
    "                views = response['items'][0]['statistics']['viewCount'],\n",
    "                total_videos = response['items'][0]['statistics']['videoCount']\n",
    "               )\n",
    "    return data"
   ]
  },
  {
   "cell_type": "code",
   "execution_count": null,
   "metadata": {},
   "outputs": [],
   "source": [
    "channel_stats = get_channel_stats(youtube, 'michellechoii')"
   ]
  },
  {
   "cell_type": "code",
   "execution_count": null,
   "metadata": {},
   "outputs": [],
   "source": [
    "channel_stats"
   ]
  },
  {
   "cell_type": "code",
   "execution_count": null,
   "metadata": {},
   "outputs": [],
   "source": [
    "channel_data = pd.DataFrame(channel_stats, index = [0])"
   ]
  },
  {
   "cell_type": "code",
   "execution_count": null,
   "metadata": {},
   "outputs": [],
   "source": [
    "channel_data"
   ]
  },
  {
   "cell_type": "code",
   "execution_count": null,
   "metadata": {},
   "outputs": [],
   "source": [
    "Alex_the_analyst_channel_id = 'UC7cs8q-gJRlGwj4A8OmCmXg'\n",
    "tech_tfq_channel_id = 'UCnz-ZXXER4jOvuED5trXfEA'\n",
    "lawlumberacct = 'UCtbp5yMSXR3BKR3x8oCRZdQ'"
   ]
  },
  {
   "cell_type": "code",
   "execution_count": null,
   "metadata": {},
   "outputs": [],
   "source": [
    "## function to get channel statistics \n",
    "\n",
    "def get_playlist_stats (youtube, channel_id):\n",
    "    request = youtube.playlists().list(\n",
    "        part = \"contentDetails, status, player, snippet\",\n",
    "    channelId = channel_id,\n",
    "    maxResults = 50)\n",
    "    \n",
    "    all_data = []\n",
    "    \n",
    "    playlist_json = request.execute()\n",
    "    \n",
    "    playlist_count = playlist_json['pageInfo']['totalResults']\n",
    "    \n",
    "    for i in range(playlist_count): \n",
    "        playlist_data = dict(\n",
    "            channel_name = playlist_json['items'][i]['snippet']['channelTitle'],\n",
    "            playlist_id = playlist_json['items'][i]['id'],\n",
    "            playlist_publiushed_at = playlist_json['items'][i]['snippet']['publishedAt'],\n",
    "            playlist_title = playlist_json['items'][i]['snippet']['title'],\n",
    "            description = playlist_json['items'][i]['snippet']['description'],\n",
    "            video_count = playlist_json['items'][i]['contentDetails']['itemCount'],\n",
    "            privacy_status =playlist_json['items'][i]['status']['privacyStatus']\n",
    "            )\n",
    "        all_data.append(playlist_data)\n",
    "        \n",
    "    return pd.DataFrame(all_data)"
   ]
  },
  {
   "cell_type": "code",
   "execution_count": null,
   "metadata": {},
   "outputs": [],
   "source": [
    "RA_playlist = get_playlist_stats(youtube, 'UC3p6NndPDqX8bwQFT3p8_Qw')"
   ]
  },
  {
   "cell_type": "code",
   "execution_count": null,
   "metadata": {},
   "outputs": [],
   "source": [
    "RA_playlist.head()"
   ]
  },
  {
   "cell_type": "code",
   "execution_count": null,
   "metadata": {},
   "outputs": [],
   "source": [
    "RA_playlist_ids = np.array(RA_playlist['playlist_id'])"
   ]
  },
  {
   "cell_type": "code",
   "execution_count": null,
   "metadata": {},
   "outputs": [],
   "source": [
    "RA_playlist_ids"
   ]
  },
  {
   "cell_type": "code",
   "execution_count": null,
   "metadata": {},
   "outputs": [],
   "source": [
    "#get_playlist_stats(youtube, lawlumberacct)"
   ]
  },
  {
   "cell_type": "code",
   "execution_count": null,
   "metadata": {},
   "outputs": [],
   "source": [
    "#get_playlist_stats(youtube, tech_tfq_channel_id)"
   ]
  },
  {
   "cell_type": "code",
   "execution_count": null,
   "metadata": {},
   "outputs": [],
   "source": [
    "get_playlist_stats(youtube, 'UC7cs8q-gJRlGwj4A8OmCmXg')"
   ]
  },
  {
   "cell_type": "code",
   "execution_count": null,
   "metadata": {},
   "outputs": [],
   "source": [
    "def parse_video_json(playlistitems_json,num_vids): \n",
    "    vid_data = []\n",
    "    for i in range(num_vids):\n",
    "        if playlistitems_json['items'][i]['status']['privacyStatus'] == 'public':\n",
    "            playlist_items_data = dict(\n",
    "            channel_name = playlistitems_json['items'][i]['snippet']['channelTitle'],\n",
    "            vid_id = playlistitems_json['items'][i]['contentDetails']['videoId'],\n",
    "            vid_position = playlistitems_json['items'][i]['snippet']['position'],\n",
    "            vid_published_at = playlistitems_json['items'][i]['snippet']['publishedAt'],\n",
    "            vid_title = playlistitems_json['items'][i]['snippet']['title'],\n",
    "            vid_description = playlistitems_json['items'][i]['snippet']['description'],\n",
    "            channel_id = playlistitems_json['items'][i]['snippet']['videoOwnerChannelId'],\n",
    "            #channel_id = playlistitems_json['items'][i]['resourceId']['videoOwnerChannelId'],\n",
    "            privacy_status =playlistitems_json['items'][i]['status']['privacyStatus']\n",
    "            )\n",
    "            vid_data.append(playlist_items_data)\n",
    "        else:\n",
    "            pass\n",
    "    return vid_data"
   ]
  },
  {
   "cell_type": "code",
   "execution_count": null,
   "metadata": {},
   "outputs": [],
   "source": [
    "## function to get channel statistics \n",
    "\n",
    "def get_playlistitems_stats (youtube, playlist_id):\n",
    "    res = youtube.playlistItems().list(\n",
    "        part = \"contentDetails, status, id, snippet\",\n",
    "        playlistId = playlist_id,\n",
    "    maxResults = 50).execute()\n",
    "    \n",
    "    number_of_vids = len(res['items'])\n",
    "\n",
    "    full_data = parse_video_json(res,number_of_vids) \n",
    "    \n",
    "    nextPageToken = res.get('nextPageToken')\n",
    "    \n",
    "    while ('nextPageToken' in res):\n",
    "        nextPage = youtube.playlistItems().list(\n",
    "        part = \"contentDetails, status, id, snippet\",\n",
    "        playlistId = playlist_id,\n",
    "        maxResults = 50,\n",
    "        pageToken = nextPageToken\n",
    "        ).execute()\n",
    "        \n",
    "        full_data = full_data + parse_video_json(nextPage,len(nextPage['items']))\n",
    "\n",
    "        if 'nextPageToken' not in nextPage:\n",
    "            res.pop('nextPageToken', None)\n",
    "        else:\n",
    "            nextPageToken = nextPage.get('nextPageToken')\n",
    "          \n",
    "    df1 = pd.DataFrame(full_data)\n",
    "    \n",
    "    return df1"
   ]
  },
  {
   "cell_type": "code",
   "execution_count": null,
   "metadata": {},
   "outputs": [],
   "source": [
    "analyticsBootCampVideos = np.array(get_playlistitems_stats(youtube, 'PLUaB-1hjhk8FE_XZ87vPPSfHqb6OcM0cF')['vid_id'])"
   ]
  },
  {
   "cell_type": "code",
   "execution_count": null,
   "metadata": {},
   "outputs": [],
   "source": [
    "#get_playlistitems_stats(youtube, 'PLUaB-1hjhk8FE_XZ87vPPSfHqb6OcM0cF')"
   ]
  },
  {
   "cell_type": "code",
   "execution_count": null,
   "metadata": {},
   "outputs": [],
   "source": [
    "#get_playlistitems_stats (youtube, 'PLUaB-1hjhk8FE_XZ87vPPSfHqb6OcM0cF')"
   ]
  },
  {
   "cell_type": "code",
   "execution_count": null,
   "metadata": {},
   "outputs": [],
   "source": [
    "#get_playlistitems_stats (youtube, 'PLjAQjmBL37WtLOD7js9ECkmEbDZ6LCUjD')"
   ]
  },
  {
   "cell_type": "code",
   "execution_count": null,
   "metadata": {},
   "outputs": [],
   "source": [
    "def get_video_stats (youtube, video_ids =[]):\n",
    "    videos_json = []\n",
    "    full_data = []\n",
    "    \n",
    "    for vid_id in video_ids:\n",
    "        results = youtube.videos().list(\n",
    "            part = \"contentDetails, id, liveStreamingDetails, localizations, player, snippet, statistics, status, topicDetails\",\n",
    "            id = vid_id,\n",
    "        maxResults = 50).execute()\n",
    "\n",
    "        videos_json.append(results)\n",
    "    \n",
    "    for i in range(len(videos_json)):\n",
    "        vidDetails= dict(\n",
    "            videoId = videos_json[i]['items'][0]['id'],\n",
    "            channelId = videos_json[i]['items'][0]['snippet']['channelId'],\n",
    "            publishedAt = videos_json[i]['items'][0]['snippet']['publishedAt'],\n",
    "            viewCcount = videos_json[i]['items'][0]['statistics']['viewCount'],\n",
    "            likeCount = videos_json[i]['items'][0]['statistics']['likeCount'],\n",
    "            favoriteCount = videos_json[i]['items'][0]['statistics']['favoriteCount'],\n",
    "            commentCount = videos_json[i]['items'][0]['statistics']['commentCount'],\n",
    "            liveBroadcastContent = videos_json[i]['items'][0]['snippet']['liveBroadcastContent'],\n",
    "            duration = videos_json[i]['items'][0]['contentDetails']['duration'],\n",
    "            #liveStreamingDetails = videos_json['items'][0]['liveStreamingDetails']['liveStreamingDetails']['actualStartTime']\n",
    "        )\n",
    "        full_data.append(vidDetails)\n",
    "\n",
    "    return pd.DataFrame(full_data)"
   ]
  },
  {
   "cell_type": "code",
   "execution_count": null,
   "metadata": {},
   "outputs": [],
   "source": [
    "def changeColumnDataType(df):\n",
    "    df['viewCount'] = pd.to_numeric(df['viewCcount'])\n",
    "    df['likeCount'] = pd.to_numeric(df['likeCount'])\n",
    "    #df['commentCount'] = pd.to_numeric(df['commentCount'])\n",
    "    df['publishedAt'] = pd.to_datetime(df['publishedAt'])\n",
    "    df['duration'] = [isodate.parse_duration(i).total_seconds() for i in df['duration']]\n",
    "    return df"
   ]
  },
  {
   "cell_type": "markdown",
   "metadata": {},
   "source": [
    "add video name\n",
    "add description (Can separate the SQl, python etc etc from each other)\n",
    "include a subscriber count table \n",
    "include a playlists table \n",
    "include a playlist items table\n",
    "#most viewed\n",
    "#least viewed \n",
    "#group by content type\n",
    "number of shares\n",
    "shorts / thumbnails\n",
    "engagement of live videos\n",
    "\n",
    "another youtube channel tocheck out\n",
    "https://www.youtube.com/watch?v=ZML_EJrBhnY&list=PLavw5C92dz9Ef4E-1Zi9KfCTXS_IN8gXZ&index=18"
   ]
  },
  {
   "cell_type": "code",
   "execution_count": null,
   "metadata": {},
   "outputs": [],
   "source": [
    "#get_video_stats(youtube ,['sQX1jdrTIhE'])\n",
    "#get_video_stats(youtube ,['NUkOHjo4THo']) #live\n",
    "get_video_stats(youtube , analyticsBootCampVideos) #notlive\n"
   ]
  },
  {
   "cell_type": "code",
   "execution_count": null,
   "metadata": {},
   "outputs": [],
   "source": [
    "playlists = get_playlist_stats(youtube, Alex_the_analyst_channel_id)"
   ]
  },
  {
   "cell_type": "code",
   "execution_count": null,
   "metadata": {},
   "outputs": [],
   "source": [
    "playlists.head()"
   ]
  },
  {
   "cell_type": "code",
   "execution_count": null,
   "metadata": {},
   "outputs": [],
   "source": [
    "bootcamp_video_stats = get_video_stats(youtube, analyticsBootCampVideos)"
   ]
  },
  {
   "cell_type": "code",
   "execution_count": null,
   "metadata": {},
   "outputs": [],
   "source": [
    "bootcamp_video_stats.dtypes"
   ]
  },
  {
   "cell_type": "code",
   "execution_count": null,
   "metadata": {},
   "outputs": [],
   "source": [
    "bootcamp_video_stats['viewCount'] = pd.to_numeric(bootcamp_video_stats['viewCcount'])\n",
    "bootcamp_video_stats['likeCount'] = pd.to_numeric(bootcamp_video_stats['likeCount'])\n",
    "bootcamp_video_stats['commentCount'] = pd.to_numeric(bootcamp_video_stats['commentCount'])\n",
    "bootcamp_video_stats['publishedAt'] = pd.to_datetime(bootcamp_video_stats['publishedAt'])\n",
    "bootcamp_video_stats['duration'] = [isodate.parse_duration(i).total_seconds() for i in bootcamp_video_stats['duration']]"
   ]
  },
  {
   "cell_type": "code",
   "execution_count": null,
   "metadata": {},
   "outputs": [],
   "source": [
    "bootcamp_video_stats.head()"
   ]
  },
  {
   "cell_type": "code",
   "execution_count": null,
   "metadata": {},
   "outputs": [],
   "source": [
    "sns.set(rc = {'figure.figsize' :(10,8)})\n",
    "ax = sns.lineplot(x='publishedAt', y = 'viewCount', data = bootcamp_video_stats)"
   ]
  },
  {
   "cell_type": "code",
   "execution_count": null,
   "metadata": {},
   "outputs": [],
   "source": [
    "bootcamp_video_stats.to_csv(path_or_buf = '/Users/rebeccan/Desktop/Analytics Projects/bootcampvids.csv')"
   ]
  },
  {
   "cell_type": "code",
   "execution_count": null,
   "metadata": {},
   "outputs": [],
   "source": [
    "TakeCareOfMaya = np.array(get_playlistitems_stats(youtube, 'PL-SflFiIo_nUIs9XvpamPgjn1_-HKXTvE')['vid_id'])"
   ]
  },
  {
   "cell_type": "code",
   "execution_count": null,
   "metadata": {},
   "outputs": [],
   "source": [
    "def get_livebroadcast_stats (youtube, video_ids =[]):\n",
    "    videos_json = []\n",
    "    full_data = []\n",
    "    \n",
    "    for vid_id in video_ids:\n",
    "        results = youtube.videos().list(\n",
    "            part = \"contentDetails, id, liveStreamingDetails, localizations, player, snippet, statistics, status, topicDetails\",\n",
    "            id = vid_id,\n",
    "        maxResults = 50).execute()\n",
    "\n",
    "        videos_json.append(results)\n",
    "    \n",
    "    for i in range(len(videos_json)):\n",
    "        vidDetails= dict(\n",
    "            videoId = videos_json[i]['items'][0]['id'],\n",
    "            channelId = videos_json[i]['items'][0]['snippet']['channelId'],\n",
    "            publishedAt = videos_json[i]['items'][0]['snippet']['publishedAt'],\n",
    "            viewCcount = videos_json[i]['items'][0]['statistics']['viewCount'],\n",
    "            likeCount = videos_json[i]['items'][0]['statistics']['likeCount'],\n",
    "            favoriteCount = videos_json[i]['items'][0]['statistics']['favoriteCount'],\n",
    "            liveBroadcastContent = videos_json[i]['items'][0]['snippet']['liveBroadcastContent'],\n",
    "            duration = videos_json[i]['items'][0]['contentDetails']['duration'],\n",
    "            #liveStreamingDetails = videos_json['items'][0]['liveStreamingDetails']['liveStreamingDetails']['actualStartTime']\n",
    "        )\n",
    "        full_data.append(vidDetails)\n",
    "\n",
    "    return pd.DataFrame(full_data)"
   ]
  },
  {
   "cell_type": "code",
   "execution_count": null,
   "metadata": {},
   "outputs": [],
   "source": [
    "takecareofmayavideos = get_livebroadcast_stats(youtube, TakeCareOfMaya)"
   ]
  },
  {
   "cell_type": "code",
   "execution_count": null,
   "metadata": {},
   "outputs": [],
   "source": [
    "takecareofmayavideos.to_csv(path_or_buf = '/Users/rebeccan/Desktop/Analytics Projects/takecareofmayavideos.csv')"
   ]
  },
  {
   "cell_type": "code",
   "execution_count": null,
   "metadata": {},
   "outputs": [],
   "source": [
    "heyItsOLiviaChannel = 'UCn2Kt4RZMcvF9w1g6-4Ar9A'"
   ]
  },
  {
   "cell_type": "code",
   "execution_count": null,
   "metadata": {},
   "outputs": [],
   "source": [
    "takecareofmayavideos = changeColumnDataType(takecareofmayavideos)"
   ]
  },
  {
   "cell_type": "code",
   "execution_count": null,
   "metadata": {},
   "outputs": [],
   "source": [
    "takecareofmayavideos.dtypes"
   ]
  },
  {
   "cell_type": "markdown",
   "metadata": {},
   "source": [
    "For each channel:\n",
    "1. get all playlists in channel.\n",
    "2. get all videos each playlist\n",
    "3. get all video data for each video"
   ]
  },
  {
   "cell_type": "code",
   "execution_count": null,
   "metadata": {},
   "outputs": [],
   "source": [
    "#get all playlists\n",
    "get_playlist_stats(youtube, heyItsOLiviaChannel)\n",
    "\n",
    "---\n",
    "\n",
    "all_videos = pd.DataFrame()\n",
    "for playlist in OliviasPlaylists['playlist_id']:\n",
    "    df = get_playlistitems_stats(youtube, playlist)\n",
    "    df['playlist_id'] = playlist\n",
    "    all_videos = all_videos.append(df)\n",
    "    \n",
    "videos = np.array(all_videos['vid_id'])\n",
    "channel_vid_info  = get_video_stats(youtube, videos)  \n",
    "channel_vid_info = changeColumnDataType(channel_vid_info)"
   ]
  }
 ],
 "metadata": {
  "kernelspec": {
   "display_name": "Python 3",
   "language": "python",
   "name": "python3"
  },
  "language_info": {
   "codemirror_mode": {
    "name": "ipython",
    "version": 3
   },
   "file_extension": ".py",
   "mimetype": "text/x-python",
   "name": "python",
   "nbconvert_exporter": "python",
   "pygments_lexer": "ipython3",
   "version": "3.7.7"
  }
 },
 "nbformat": 4,
 "nbformat_minor": 4
}
